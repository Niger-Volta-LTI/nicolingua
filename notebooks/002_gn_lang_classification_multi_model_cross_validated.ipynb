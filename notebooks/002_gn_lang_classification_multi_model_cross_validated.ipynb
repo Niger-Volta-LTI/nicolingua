{
 "cells": [
  {
   "cell_type": "code",
   "execution_count": 1,
   "metadata": {},
   "outputs": [],
   "source": [
    "from pathlib import Path\n",
    "import csv\n",
    "from itertools import groupby\n",
    "import h5py\n",
    "import numpy as np\n",
    "import sklearn\n",
    "from sklearn.cluster import KMeans\n",
    "from sklearn.svm import SVC\n",
    "# from sklearn.linear_model import LogisticRegression\n",
    "from sklearn.manifold import TSNE\n",
    "from sklearn.decomposition import PCA\n",
    "import random\n",
    "import matplotlib\n",
    "from matplotlib import pyplot as plt"
   ]
  },
  {
   "cell_type": "markdown",
   "metadata": {},
   "source": [
    "# Configuration & Utilities"
   ]
  },
  {
   "cell_type": "code",
   "execution_count": 2,
   "metadata": {},
   "outputs": [],
   "source": [
    "random.seed(42)\n",
    "COLORS = [\"#1f77b4\", \"#ff7f0e\", \"#2ca02c\", \"#d62728\", \"#9467bd\", \"#8c564b\", \"#e377c2\", \"#7f7f7f\", \"#bcbd22\", \"#17becf\"]\n",
    "ANNOTATIONS_PATH = \"/media/xtrem/data/experiments/nicolingua-0001-language-id/language-id-annotations/metadata.csv\"\n",
    "FEATURE_DIRS = [\n",
    "    '/media/xtrem/data/experiments/nicolingua-0001-language-id/wav2vec_features-c',\n",
    "    '/media/xtrem/data/experiments/nicolingua-0001-language-id/wav2vec_features-z',\n",
    "    '/media/xtrem/data/experiments/nicolingua-0001-language-id/retrained-wav2vec_features-c',\n",
    "    '/media/xtrem/data/experiments/nicolingua-0001-language-id/retrained-wav2vec_features-z'\n",
    "]"
   ]
  },
  {
   "cell_type": "code",
   "execution_count": 3,
   "metadata": {},
   "outputs": [],
   "source": [
    "annotation_specification = {\n",
    "    0: {\n",
    "        'id': 0,\n",
    "        'label': \"maninka\",\n",
    "        'required_tags': set(['ct-speech', 'lng-maninka']),\n",
    "        'forbidden_tags':  set(['lng-susu', 'lng-pular'])\n",
    "    },\n",
    "    1: {\n",
    "        'id': 1,\n",
    "        'label': \"susu\",\n",
    "        'required_tags': set(['ct-speech', 'lng-susu']),\n",
    "        'forbidden_tags':  set(['lng-maninka', 'lng-pular'])\n",
    "    },\n",
    "    2: {\n",
    "        'id': 2,\n",
    "        'label': \"pular\",\n",
    "        'required_tags': set(['ct-speech', 'lng-pular']),\n",
    "        'forbidden_tags':  set(['lng-susu', 'lng-maninka'])\n",
    "    }\n",
    "}"
   ]
  },
  {
   "cell_type": "code",
   "execution_count": 4,
   "metadata": {},
   "outputs": [],
   "source": [
    "def to_user_friendly_feature_name(fv_name):\n",
    "    name = fv_name \\\n",
    "        .replace(\"features-\", \"\") \\\n",
    "        .replace(\"wav2vec_\", \"\") \\\n",
    "        .replace(\"average\", \"avg\") \\\n",
    "        .replace(\"timestep\", \"T\") \\\n",
    "        .replace(\"c.\", \"Context\") \\\n",
    "        .replace(\"z.\", \"Latent\")\n",
    "    return name"
   ]
  },
  {
   "cell_type": "markdown",
   "metadata": {},
   "source": [
    "# Load annotations"
   ]
  },
  {
   "cell_type": "code",
   "execution_count": 5,
   "metadata": {},
   "outputs": [],
   "source": [
    "def load_annotations(a_file_path, a_specification):\n",
    "    with open(ANNOTATIONS_PATH) as f:\n",
    "        reader = csv.DictReader(f)\n",
    "        for row in reader:\n",
    "            tag_set = set([t.strip() for t in row['tags'].split(\";\")])\n",
    "            for label in annotation_specification.keys():\n",
    "                spec = annotation_specification[label]\n",
    "                if spec['required_tags'].issubset(tag_set):\n",
    "                    if spec['forbidden_tags'].isdisjoint(tag_set):\n",
    "                        yield row['file'], label\n",
    "                        break\n",
    "\n",
    "data = list(load_annotations(ANNOTATIONS_PATH, annotation_specification))\n",
    "audio_files, audio_labels = zip(*data)"
   ]
  },
  {
   "cell_type": "markdown",
   "metadata": {},
   "source": [
    "## Inspect label counts"
   ]
  },
  {
   "cell_type": "code",
   "execution_count": 6,
   "metadata": {},
   "outputs": [
    {
     "name": "stdout",
     "output_type": "stream",
     "text": [
      "maninka    (0): 114\n",
      "susu       (1): 32\n",
      "pular      (2): 28\n"
     ]
    }
   ],
   "source": [
    "def inspect_label_counts():\n",
    "    for label in annotation_specification:\n",
    "        count = len([l for l in audio_labels if l == label])\n",
    "        print(\"{:10} ({}): {}\".format(\n",
    "            annotation_specification[label]['label'],\n",
    "            label, \n",
    "            count\n",
    "        ))\n",
    "inspect_label_counts()"
   ]
  },
  {
   "cell_type": "markdown",
   "metadata": {},
   "source": [
    "## Balance data"
   ]
  },
  {
   "cell_type": "code",
   "execution_count": 7,
   "metadata": {},
   "outputs": [],
   "source": [
    "count_per_class = 28\n",
    "data = list(load_annotations(ANNOTATIONS_PATH, annotation_specification))\n",
    "balanced_data = []\n",
    "for label in annotation_specification:\n",
    "    balanced_data.extend([d for d in data if d[1] == label][:count_per_class])\n",
    "audio_files, audio_labels = zip(*balanced_data)"
   ]
  },
  {
   "cell_type": "code",
   "execution_count": 8,
   "metadata": {},
   "outputs": [
    {
     "name": "stdout",
     "output_type": "stream",
     "text": [
      "maninka    (0): 28\n",
      "susu       (1): 28\n",
      "pular      (2): 28\n"
     ]
    }
   ],
   "source": [
    "inspect_label_counts()"
   ]
  },
  {
   "cell_type": "markdown",
   "metadata": {},
   "source": [
    "# Prepare cross validation folds"
   ]
  },
  {
   "cell_type": "code",
   "execution_count": 24,
   "metadata": {},
   "outputs": [
    {
     "data": {
      "text/plain": [
       "RandomState(MT19937) at 0x7F6B02360780"
      ]
     },
     "execution_count": 24,
     "metadata": {},
     "output_type": "execute_result"
    }
   ],
   "source": [
    "rs = np.random.RandomState(seed=42)\n",
    "rs."
   ]
  },
  {
   "cell_type": "markdown",
   "metadata": {},
   "source": [
    "# Load features"
   ]
  },
  {
   "cell_type": "code",
   "execution_count": null,
   "metadata": {},
   "outputs": [],
   "source": [
    "def load_features(audio_files, features_input_dir):\n",
    "    id_list = []\n",
    "    features_list = []\n",
    "\n",
    "    for audio_file_name in audio_files:\n",
    "        feature_file_name = audio_file_name.replace(\".wav\", \".h5context\")\n",
    "        feature_path = Path(features_input_dir) / feature_file_name\n",
    "        with h5py.File(feature_path, 'r') as f:\n",
    "            features_shape = f['info'][1:].astype(int)\n",
    "            features = np.array(f['features'][:]).reshape(features_shape)\n",
    "            # features = pool_feature_last_seq(features)\n",
    "            features_list.append(features)\n",
    "    return features_list"
   ]
  },
  {
   "cell_type": "code",
   "execution_count": null,
   "metadata": {},
   "outputs": [],
   "source": [
    "raw_features = {}\n",
    "for feature_dir in FEATURE_DIRS:\n",
    "    feature_name = Path(feature_dir).stem\n",
    "    raw_features[feature_name] = load_features(audio_files, feature_dir)"
   ]
  },
  {
   "cell_type": "markdown",
   "metadata": {},
   "source": [
    "## Inspect feature shapes"
   ]
  },
  {
   "cell_type": "code",
   "execution_count": null,
   "metadata": {},
   "outputs": [],
   "source": [
    "for feature_name in raw_features.keys():\n",
    "    print(\"feature_name: {}. feature shape: {}\".format(\n",
    "        to_user_friendly_feature_name(feature_name),\n",
    "        raw_features['wav2vec_features-c'][0].shape\n",
    "    ))"
   ]
  },
  {
   "cell_type": "markdown",
   "metadata": {},
   "source": [
    "## Extract feature vectors"
   ]
  },
  {
   "cell_type": "code",
   "execution_count": null,
   "metadata": {},
   "outputs": [],
   "source": [
    "def extract_last_timestep_features(raw_features):\n",
    "    return raw_features[-1, :]\n",
    "\n",
    "def extract_neuron_average_features(raw_features):\n",
    "    return np.mean(raw_features, axis=0)\n",
    "\n",
    "def identity(x):\n",
    "    return x\n",
    "\n",
    "feature_extractors = {\n",
    "    'last_timestep': extract_last_timestep_features,\n",
    "    'neuron_average': extract_neuron_average_features,\n",
    "    'raw_features': identity\n",
    "}"
   ]
  },
  {
   "cell_type": "code",
   "execution_count": null,
   "metadata": {},
   "outputs": [],
   "source": [
    "feature_vectors = {}\n",
    "for feature_name in raw_features.keys():\n",
    "    for feature_extractor_name in feature_extractors.keys():\n",
    "        fv_name = f\"{feature_name}__{feature_extractor_name}\"\n",
    "        feature_vectors[fv_name] = []\n",
    "        for f in raw_features[feature_name]:\n",
    "            feature_vectors[fv_name].append(\n",
    "                feature_extractors[feature_extractor_name](f)\n",
    "            )\n",
    "            \n",
    "        feature_vectors[fv_name] = np.array(feature_vectors[fv_name])"
   ]
  },
  {
   "cell_type": "markdown",
   "metadata": {},
   "source": [
    "## Inspect feature vectors"
   ]
  },
  {
   "cell_type": "code",
   "execution_count": null,
   "metadata": {},
   "outputs": [],
   "source": [
    "for fvname in feature_vectors.keys():\n",
    "    print(fvname, feature_vectors[fvname][0].shape)"
   ]
  },
  {
   "cell_type": "markdown",
   "metadata": {},
   "source": [
    "# Cluster feature vectors"
   ]
  },
  {
   "cell_type": "code",
   "execution_count": null,
   "metadata": {},
   "outputs": [],
   "source": [
    "for fv_name in feature_vectors.keys():\n",
    "    X = feature_vectors[fv_name]\n",
    "    kmeans = KMeans(n_clusters=3).fit(X)\n",
    "    score = sklearn.metrics.normalized_mutual_info_score(audio_labels, kmeans.labels_)\n",
    "    print(fv_name, score)\n",
    "    "
   ]
  },
  {
   "cell_type": "code",
   "execution_count": null,
   "metadata": {},
   "outputs": [],
   "source": [
    "def get_sample_weights(y):\n",
    "    count_per_class = {k: len(list(g)) for k, g in groupby(sorted(y))}\n",
    "    class_count = len(count_per_class)\n",
    "    weight_per_class = {k: 1/class_count/c for k, c in count_per_class.items()}\n",
    "    return [weight_per_class[yi] for yi in y]"
   ]
  },
  {
   "cell_type": "code",
   "execution_count": null,
   "metadata": {},
   "outputs": [],
   "source": [
    "train_size = len(audio_labels) // 2\n",
    "\n",
    "plt.figure(figsize=(30, 15))\n",
    "\n",
    "for index, fv_name in enumerate(feature_vectors.keys()):\n",
    "    X = feature_vectors[fv_name]\n",
    "    \n",
    "    x_train = X[:train_size]\n",
    "    y_train = audio_labels[:train_size]\n",
    "\n",
    "    x_test = X[train_size:]\n",
    "    y_test = audio_labels[train_size:]\n",
    "\n",
    "    svc = SVC(kernel=\"poly\")\n",
    "    svc.fit(x_train, y_train)\n",
    "\n",
    "    train_acc = svc.score(x_train, y_train, sample_weight=get_sample_weights(y_train))\n",
    "    test_acc = svc.score(x_test, y_test, sample_weight=get_sample_weights(y_test))\n",
    "    print(fv_name, train_acc, test_acc)\n",
    "    \n",
    "    print(f'plt.subplot({2}, {int(np.ceil(len(feature_vectors.keys())/2))}, {index+1})')\n",
    "    plt.subplot(2, int(np.ceil(len(feature_vectors.keys())/2)), index+1)\n",
    "    \n",
    "    projected_x = TSNE(n_components=2).fit_transform(feature_vectors['retrained-wav2vec_features-c__neuron_average'])\n",
    "    plt.scatter(projected_x[:, 0], projected_x[:, 1], c=[COLORS[l] for l in audio_labels])\n",
    "    title = to_user_friendly_feature_name(fv_name)\n",
    "    \n",
    "    title = f\"{title} SVM({train_acc:.02%}, {test_acc:.02%})\"\n",
    "    \n",
    "    plt.title(title)\n",
    "\n",
    "\n",
    "print(train_acc, test_acc)"
   ]
  },
  {
   "cell_type": "code",
   "execution_count": null,
   "metadata": {},
   "outputs": [],
   "source": []
  }
 ],
 "metadata": {
  "kernelspec": {
   "display_name": "Python 3",
   "language": "python",
   "name": "python3"
  },
  "language_info": {
   "codemirror_mode": {
    "name": "ipython",
    "version": 3
   },
   "file_extension": ".py",
   "mimetype": "text/x-python",
   "name": "python",
   "nbconvert_exporter": "python",
   "pygments_lexer": "ipython3",
   "version": "3.6.8"
  }
 },
 "nbformat": 4,
 "nbformat_minor": 4
}
