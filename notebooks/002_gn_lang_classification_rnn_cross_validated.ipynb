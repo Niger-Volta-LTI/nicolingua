{
 "cells": [
  {
   "cell_type": "code",
   "execution_count": 1,
   "metadata": {},
   "outputs": [],
   "source": [
    "from pathlib import Path\n",
    "import csv\n",
    "from itertools import groupby\n",
    "import h5py\n",
    "import numpy as np\n",
    "import sklearn\n",
    "from sklearn.cluster import KMeans\n",
    "from sklearn.svm import SVC\n",
    "# from sklearn.linear_model import LogisticRegression\n",
    "from sklearn.manifold import TSNE\n",
    "from sklearn.decomposition import PCA\n",
    "import random\n",
    "import matplotlib\n",
    "from matplotlib import pyplot as plt"
   ]
  },
  {
   "cell_type": "markdown",
   "metadata": {},
   "source": [
    "# Configuration & Utilities"
   ]
  },
  {
   "cell_type": "code",
   "execution_count": 2,
   "metadata": {},
   "outputs": [],
   "source": [
    "random.seed(42)\n",
    "COLORS = [\"#1f77b4\", \"#ff7f0e\", \"#2ca02c\", \"#d62728\", \"#9467bd\", \"#8c564b\", \"#e377c2\", \"#7f7f7f\", \"#bcbd22\", \"#17becf\"]\n",
    "ANNOTATIONS_PATH = \"/media/xtrem/data/experiments/nicolingua-0001-language-id/language-id-annotations/metadata.csv\"\n",
    "FEATURE_DIRS = [\n",
    "    '/media/xtrem/data/experiments/nicolingua-0001-language-id/wav2vec_features-c',\n",
    "    '/media/xtrem/data/experiments/nicolingua-0001-language-id/wav2vec_features-z',\n",
    "    '/media/xtrem/data/experiments/nicolingua-0001-language-id/retrained-wav2vec_features-c',\n",
    "    '/media/xtrem/data/experiments/nicolingua-0001-language-id/retrained-wav2vec_features-z'\n",
    "]"
   ]
  },
  {
   "cell_type": "code",
   "execution_count": 3,
   "metadata": {},
   "outputs": [],
   "source": [
    "annotation_specification = {\n",
    "    0: {\n",
    "        'id': 0,\n",
    "        'label': \"maninka\",\n",
    "        'required_tags': set(['ct-speech', 'lng-maninka']),\n",
    "        'forbidden_tags':  set(['lng-susu', 'lng-pular'])\n",
    "    },\n",
    "    1: {\n",
    "        'id': 1,\n",
    "        'label': \"susu\",\n",
    "        'required_tags': set(['ct-speech', 'lng-susu']),\n",
    "        'forbidden_tags':  set(['lng-maninka', 'lng-pular'])\n",
    "    },\n",
    "    2: {\n",
    "        'id': 2,\n",
    "        'label': \"pular\",\n",
    "        'required_tags': set(['ct-speech', 'lng-pular']),\n",
    "        'forbidden_tags':  set(['lng-susu', 'lng-maninka'])\n",
    "    }\n",
    "}"
   ]
  },
  {
   "cell_type": "code",
   "execution_count": 4,
   "metadata": {},
   "outputs": [],
   "source": [
    "def to_user_friendly_feature_name(fv_name):\n",
    "    name = fv_name \\\n",
    "        .replace(\"features-\", \"\") \\\n",
    "        .replace(\"wav2vec_\", \"\") \\\n",
    "        .replace(\"average\", \"avg\") \\\n",
    "        .replace(\"timestep\", \"T\") \\\n",
    "        .replace(\"c.\", \"Context\") \\\n",
    "        .replace(\"z.\", \"Latent\")\n",
    "    return name"
   ]
  },
  {
   "cell_type": "markdown",
   "metadata": {},
   "source": [
    "# Load annotations"
   ]
  },
  {
   "cell_type": "code",
   "execution_count": 5,
   "metadata": {},
   "outputs": [],
   "source": [
    "def load_annotations(a_file_path, a_specification):\n",
    "    with open(ANNOTATIONS_PATH) as f:\n",
    "        reader = csv.DictReader(f)\n",
    "        for row in reader:\n",
    "            tag_set = set([t.strip() for t in row['tags'].split(\";\")])\n",
    "            for label in annotation_specification.keys():\n",
    "                spec = annotation_specification[label]\n",
    "                if spec['required_tags'].issubset(tag_set):\n",
    "                    if spec['forbidden_tags'].isdisjoint(tag_set):\n",
    "                        yield row['file'], label\n",
    "                        break\n",
    "\n",
    "data = list(load_annotations(ANNOTATIONS_PATH, annotation_specification))\n",
    "audio_files, audio_labels = zip(*data)"
   ]
  },
  {
   "cell_type": "markdown",
   "metadata": {},
   "source": [
    "## Inspect label counts"
   ]
  },
  {
   "cell_type": "code",
   "execution_count": 6,
   "metadata": {},
   "outputs": [
    {
     "name": "stdout",
     "output_type": "stream",
     "text": [
      "maninka    (0): 114\n",
      "susu       (1): 32\n",
      "pular      (2): 28\n"
     ]
    }
   ],
   "source": [
    "def inspect_label_counts():\n",
    "    for label in annotation_specification:\n",
    "        count = len([l for l in audio_labels if l == label])\n",
    "        print(\"{:10} ({}): {}\".format(\n",
    "            annotation_specification[label]['label'],\n",
    "            label, \n",
    "            count\n",
    "        ))\n",
    "inspect_label_counts()"
   ]
  },
  {
   "cell_type": "markdown",
   "metadata": {},
   "source": [
    "## Balance data"
   ]
  },
  {
   "cell_type": "code",
   "execution_count": 7,
   "metadata": {},
   "outputs": [],
   "source": [
    "count_per_class = 28\n",
    "data = list(load_annotations(ANNOTATIONS_PATH, annotation_specification))\n",
    "balanced_data = []\n",
    "for label in annotation_specification:\n",
    "    balanced_data.extend([d for d in data if d[1] == label][:count_per_class])\n",
    "audio_files, audio_labels = zip(*balanced_data)"
   ]
  },
  {
   "cell_type": "code",
   "execution_count": 8,
   "metadata": {},
   "outputs": [
    {
     "name": "stdout",
     "output_type": "stream",
     "text": [
      "maninka    (0): 28\n",
      "susu       (1): 28\n",
      "pular      (2): 28\n"
     ]
    }
   ],
   "source": [
    "inspect_label_counts()"
   ]
  },
  {
   "cell_type": "markdown",
   "metadata": {},
   "source": [
    "# Prepare 10 cross validation folds"
   ]
  },
  {
   "cell_type": "code",
   "execution_count": 9,
   "metadata": {},
   "outputs": [],
   "source": [
    "TRAIN_PERCENT = .6\n",
    "FOLD_COUNT = 10\n",
    "\n",
    "n = len(audio_files)\n",
    "n_train = int(np.ceil(n * .6))\n",
    "n_test = n - n_train\n",
    "all_indices = range(n)\n",
    "\n",
    "cv_folds = {}\n",
    "train_count_by_index = {i:0 for i in all_indices}\n",
    "test_count_by_index = {i:0 for i in all_indices}\n",
    "\n",
    "for fold_index in range(FOLD_COUNT):\n",
    "    fold_rsampler = np.random.RandomState(seed=fold_index)\n",
    "    train_index_set = set(fold_rsampler.choice(all_indices, n_train, replace=False))\n",
    "    test_index_set = set(all_indices).difference(train_index_set)\n",
    "        \n",
    "    cv_folds[fold_index] = {\n",
    "        'train_indices': sorted(list(train_index_set)),\n",
    "        'test_indices': sorted(list(train_index_set)),\n",
    "    }\n"
   ]
  },
  {
   "cell_type": "markdown",
   "metadata": {},
   "source": [
    "# Load features"
   ]
  },
  {
   "cell_type": "code",
   "execution_count": 10,
   "metadata": {},
   "outputs": [],
   "source": [
    "def load_features(audio_files, features_input_dir):\n",
    "    id_list = []\n",
    "    features_list = []\n",
    "\n",
    "    for audio_file_name in audio_files:\n",
    "        feature_file_name = audio_file_name.replace(\".wav\", \".h5context\")\n",
    "        feature_path = Path(features_input_dir) / feature_file_name\n",
    "        with h5py.File(feature_path, 'r') as f:\n",
    "            features_shape = f['info'][1:].astype(int)\n",
    "            features = np.array(f['features'][:]).reshape(features_shape)\n",
    "            # features = pool_feature_last_seq(features)\n",
    "            features_list.append(features)\n",
    "    return features_list"
   ]
  },
  {
   "cell_type": "code",
   "execution_count": 11,
   "metadata": {},
   "outputs": [],
   "source": [
    "raw_features = {}\n",
    "for feature_dir in FEATURE_DIRS:\n",
    "    feature_name = Path(feature_dir).stem\n",
    "    raw_features[feature_name] = load_features(audio_files, feature_dir)"
   ]
  },
  {
   "cell_type": "markdown",
   "metadata": {},
   "source": [
    "## Inspect feature shapes"
   ]
  },
  {
   "cell_type": "code",
   "execution_count": 12,
   "metadata": {},
   "outputs": [
    {
     "name": "stdout",
     "output_type": "stream",
     "text": [
      "feature_name: c. feature shape: (2998, 512)\n",
      "feature_name: z. feature shape: (2998, 512)\n",
      "feature_name: retrained-c. feature shape: (2998, 512)\n",
      "feature_name: retrained-z. feature shape: (2998, 512)\n"
     ]
    }
   ],
   "source": [
    "for feature_name in raw_features.keys():\n",
    "    print(\"feature_name: {}. feature shape: {}\".format(\n",
    "        to_user_friendly_feature_name(feature_name),\n",
    "        raw_features[feature_name][0].shape\n",
    "    ))"
   ]
  },
  {
   "cell_type": "markdown",
   "metadata": {},
   "source": [
    "## Extract feature vectors"
   ]
  },
  {
   "cell_type": "code",
   "execution_count": 13,
   "metadata": {},
   "outputs": [],
   "source": [
    "def extract_last_timestep_features(raw_features):\n",
    "    return raw_features[-1, :]\n",
    "\n",
    "def extract_neuron_average_features(raw_features):\n",
    "    return np.mean(raw_features, axis=0)\n",
    "\n",
    "def identity(x):\n",
    "    return x\n",
    "\n",
    "feature_extractors = {\n",
    "    'last_timestep': extract_last_timestep_features,\n",
    "    'neuron_average': extract_neuron_average_features,\n",
    "    'raw_features': identity\n",
    "}"
   ]
  },
  {
   "cell_type": "code",
   "execution_count": 14,
   "metadata": {},
   "outputs": [],
   "source": [
    "feature_vectors = {}\n",
    "for feature_name in raw_features.keys():\n",
    "    for feature_extractor_name in feature_extractors.keys():\n",
    "        fv_name = f\"{feature_name}__{feature_extractor_name}\"\n",
    "        feature_vectors[fv_name] = []\n",
    "        for f in raw_features[feature_name]:\n",
    "            feature_vectors[fv_name].append(\n",
    "                feature_extractors[feature_extractor_name](f)\n",
    "            )\n",
    "            \n",
    "        feature_vectors[fv_name] = np.array(feature_vectors[fv_name])"
   ]
  },
  {
   "cell_type": "markdown",
   "metadata": {},
   "source": [
    "## Inspect feature vectors"
   ]
  },
  {
   "cell_type": "code",
   "execution_count": 15,
   "metadata": {},
   "outputs": [
    {
     "name": "stdout",
     "output_type": "stream",
     "text": [
      "wav2vec_features-c__last_timestep (512,)\n",
      "wav2vec_features-c__neuron_average (512,)\n",
      "wav2vec_features-c__raw_features (2998, 512)\n",
      "wav2vec_features-z__last_timestep (512,)\n",
      "wav2vec_features-z__neuron_average (512,)\n",
      "wav2vec_features-z__raw_features (2998, 512)\n",
      "retrained-wav2vec_features-c__last_timestep (512,)\n",
      "retrained-wav2vec_features-c__neuron_average (512,)\n",
      "retrained-wav2vec_features-c__raw_features (2998, 512)\n",
      "retrained-wav2vec_features-z__last_timestep (512,)\n",
      "retrained-wav2vec_features-z__neuron_average (512,)\n",
      "retrained-wav2vec_features-z__raw_features (2998, 512)\n"
     ]
    }
   ],
   "source": [
    "for fvname in feature_vectors.keys():\n",
    "    print(fvname, feature_vectors[fvname][0].shape)"
   ]
  },
  {
   "cell_type": "markdown",
   "metadata": {},
   "source": [
    "# Classification Models"
   ]
  },
  {
   "cell_type": "code",
   "execution_count": 16,
   "metadata": {},
   "outputs": [],
   "source": [
    "import torch\n",
    "import torch.nn as nn\n",
    "import torch.nn.functional as F\n",
    "from pytorch_model_summary import summary\n",
    "from torch.utils.data import TensorDataset, DataLoader\n",
    "import torch.optim as optim"
   ]
  },
  {
   "cell_type": "code",
   "execution_count": 17,
   "metadata": {},
   "outputs": [],
   "source": [
    "class LangIdConvNet(nn.Module):\n",
    "    def __init__(self):\n",
    "        super(LangIdConvNet, self).__init__()\n",
    "        \n",
    "        self.lstm = nn.LSTM(input_size=512, hidden_size=3, num_layers=1, batch_first=True)\n",
    "        # self.gru = nn.GRU(input_size=512, hidden_size=3, num_layers=1, batch_first=True)\n",
    "        self.drop1 = nn.Dropout(p=0.3)\n",
    "        self.lin1 = nn.Linear(in_features=3, out_features=3)\n",
    "        \n",
    "        \n",
    "        \n",
    "    def forward(self, x):\n",
    "        output, (h_n, c_n) = self.lstm(x)\n",
    "        # output, h_n = self.gru(x)\n",
    "        x = output[:, -1, :] # [all batches, last time step, all neurons]\n",
    "        \n",
    "        x = self.drop1(x)\n",
    "        x = self.lin1(x)\n",
    "        \n",
    "        return x\n",
    "        "
   ]
  },
  {
   "cell_type": "code",
   "execution_count": null,
   "metadata": {},
   "outputs": [],
   "source": []
  },
  {
   "cell_type": "markdown",
   "metadata": {},
   "source": [
    "# Train Classification Models"
   ]
  },
  {
   "cell_type": "code",
   "execution_count": 18,
   "metadata": {},
   "outputs": [],
   "source": [
    "def get_data_for_fold(fold_id, feature_name, batch_size):\n",
    "    train_indices = cv_folds[fold_id]['train_indices']\n",
    "    test_indices = cv_folds[fold_id]['test_indices']\n",
    "\n",
    "    train_x = np.take(raw_features[feature_name], train_indices, axis=0)\n",
    "    train_y = np.take(audio_labels, train_indices, axis=0)\n",
    "\n",
    "    test_x = np.take(raw_features[feature_name], test_indices, axis=0)\n",
    "    test_y = np.take(audio_labels, test_indices, axis=0)\n",
    "    \n",
    "    return train_x, train_y, test_x, test_y\n",
    "\n",
    "    \n",
    "def get_loaders_for_fold(fold_id, feature_name, batch_size):\n",
    "    \n",
    "    train_x, train_y, test_x, test_y = get_data_for_fold(fold_id, feature_name, batch_size)\n",
    "    \n",
    "    train_dataset = TensorDataset(\n",
    "        torch.tensor(train_x), \n",
    "        torch.tensor(train_y)\n",
    "    )\n",
    "\n",
    "    train_loader = DataLoader(train_dataset, batch_size=batch_size)\n",
    "\n",
    "    test_dataset = TensorDataset(\n",
    "        torch.tensor(test_x), \n",
    "        torch.tensor(test_y)\n",
    "    )\n",
    "\n",
    "    test_loader = DataLoader(test_dataset, batch_size=batch_size)\n",
    "    \n",
    "    return train_loader, test_loader\n",
    "\n",
    "\n",
    "def get_predictions_for_logits(logits):\n",
    "    probs = F.softmax(logits, dim=1)\n",
    "    return torch.argmax(probs, dim=1)"
   ]
  },
  {
   "cell_type": "code",
   "execution_count": 19,
   "metadata": {},
   "outputs": [],
   "source": [
    "def train_on_fold(fold_id, feature_name, batch_size, epochs):\n",
    "    device = torch.device(\"cuda:0\")\n",
    "    torch.manual_seed(0)\n",
    "    results = {}\n",
    "    \n",
    "    model = LangIdConvNet().to(device)\n",
    "\n",
    "    train_loader, test_loader = get_loaders_for_fold(fold_id, feature_name, batch_size)\n",
    "\n",
    "    print(summary(LangIdConvNet(), torch.zeros((10, 2998, 512)), show_input=False))\n",
    "\n",
    "    optimizer = optim.Adam(model.parameters(), lr=0.001)\n",
    "    criterion = nn.CrossEntropyLoss()\n",
    "\n",
    "    for epoch in range(1, epochs+1):\n",
    "        model.train()\n",
    "        train_loss = 0\n",
    "        pred_train_classes = []\n",
    "        true_train_classes = []\n",
    "\n",
    "        for batch_idx, (x, y) in enumerate(train_loader):\n",
    "            x = x.to(device)\n",
    "            y = y.to(device)\n",
    "            \n",
    "            optimizer.zero_grad()\n",
    "            outputs = model(x)\n",
    "            pred_train_classes.extend(\n",
    "                get_predictions_for_logits(outputs).cpu().numpy()\n",
    "            )\n",
    "            true_train_classes.extend(y.cpu().numpy())\n",
    "            loss = criterion(outputs, y)\n",
    "\n",
    "            loss.backward()\n",
    "            optimizer.step()\n",
    "\n",
    "            train_loss += loss.item()\n",
    "\n",
    "        train_loss = train_loss/len(train_loader)\n",
    "        train_acc = sklearn.metrics.accuracy_score(true_train_classes, pred_train_classes)\n",
    "\n",
    "\n",
    "        pred_test_classes = []\n",
    "        true_test_classes = []\n",
    "        model.eval()\n",
    "        test_loss = 0\n",
    "        for batch_idx, (x, y) in enumerate(test_loader):\n",
    "            x = x.to(device)\n",
    "            y = y.to(device)\n",
    "            \n",
    "            outputs = model(x)\n",
    "\n",
    "            pred_test_classes.extend(\n",
    "                get_predictions_for_logits(outputs).cpu().numpy()\n",
    "            )\n",
    "\n",
    "            true_test_classes.extend(y.cpu().numpy())\n",
    "\n",
    "            loss = criterion(outputs, y)\n",
    "            test_loss += loss.item()\n",
    "\n",
    "\n",
    "        test_loss = test_loss / len(test_loader)\n",
    "        test_acc = sklearn.metrics.accuracy_score(true_test_classes, pred_test_classes)\n",
    "\n",
    "        if epoch%10==0:\n",
    "            print(f\"Epoch: {epoch}. Train Loss: {train_loss:0.4}. Test Loss: {test_loss:0.4}. Train Acc: {train_acc:0.4}. Test Acc:{test_acc:0.4}\")\n",
    "            \n",
    "        results[epoch] = {\n",
    "            'train_loss': train_loss,\n",
    "            'test_loss': test_loss,\n",
    "            'train_acc': train_acc,\n",
    "            'test_acc': test_acc\n",
    "        }\n",
    "        \n",
    "    return results\n",
    "    "
   ]
  },
  {
   "cell_type": "code",
   "execution_count": 20,
   "metadata": {},
   "outputs": [],
   "source": [
    "import csv\n",
    "from pathlib import Path\n",
    "\n",
    "def save_results(all_results):\n",
    "    for result_entry in all_results:\n",
    "        feature_name = result_entry['feature_name']\n",
    "        fold_index = result_entry['fold_index']\n",
    "        Path('lstm_results').mkdir(exist_ok=True)\n",
    "        fname = f\"lstm_results/{feature_name}_{fold_index}.csv\"\n",
    "        with open(fname, 'w') as f:\n",
    "            writer = csv.writer(f)\n",
    "            writer.writerow(\n",
    "                ['epoch', 'train_loss', 'test_loss', 'train_acc', 'test_acc']\n",
    "            )\n",
    "            \n",
    "            for epoch in sorted(result_entry['epochs'].keys()):\n",
    "                writer.writerow([\n",
    "                    epoch,\n",
    "                    result_entry['epochs'][epoch]['train_loss'],\n",
    "                    result_entry['epochs'][epoch]['test_loss'],\n",
    "                    result_entry['epochs'][epoch]['train_acc'],\n",
    "                    result_entry['epochs'][epoch]['test_acc']\n",
    "                ])"
   ]
  },
  {
   "cell_type": "code",
   "execution_count": null,
   "metadata": {
    "scrolled": true
   },
   "outputs": [
    {
     "name": "stdout",
     "output_type": "stream",
     "text": [
      "---------------------------------------------------------------------------------------------\n",
      "      Layer (type)                              Output Shape         Param #     Tr. Param #\n",
      "=============================================================================================\n",
      "            LSTM-1     [10, 2998, 3], [1, 10, 3], [1, 10, 3]           6,204           6,204\n",
      "         Dropout-2                                   [10, 3]               0               0\n",
      "          Linear-3                                   [10, 3]              12              12\n",
      "=============================================================================================\n",
      "Total params: 6,216\n",
      "Trainable params: 6,216\n",
      "Non-trainable params: 0\n",
      "---------------------------------------------------------------------------------------------\n",
      "Epoch: 10. Train Loss: 1.126. Test Loss: 1.113. Train Acc: 0.3529. Test Acc:0.3725\n",
      "Epoch: 20. Train Loss: 1.086. Test Loss: 1.035. Train Acc: 0.451. Test Acc:0.3922\n",
      "Epoch: 30. Train Loss: 0.9899. Test Loss: 0.9561. Train Acc: 0.5098. Test Acc:0.5098\n",
      "Epoch: 40. Train Loss: 0.9422. Test Loss: 0.8725. Train Acc: 0.4706. Test Acc:0.5882\n",
      "Epoch: 50. Train Loss: 0.9481. Test Loss: 0.7812. Train Acc: 0.5882. Test Acc:0.6667\n",
      "Epoch: 60. Train Loss: 0.6703. Test Loss: 0.6871. Train Acc: 0.7451. Test Acc:0.7647\n",
      "Epoch: 70. Train Loss: 0.5731. Test Loss: 0.6168. Train Acc: 0.7451. Test Acc:0.7843\n",
      "Epoch: 80. Train Loss: 0.6114. Test Loss: 0.5646. Train Acc: 0.8039. Test Acc:0.8039\n",
      "Epoch: 90. Train Loss: 0.5568. Test Loss: 0.5196. Train Acc: 0.8039. Test Acc:0.8235\n",
      "Epoch: 100. Train Loss: 0.5015. Test Loss: 0.4747. Train Acc: 0.7843. Test Acc:0.8431\n",
      "Epoch: 110. Train Loss: 0.5305. Test Loss: 0.4385. Train Acc: 0.7451. Test Acc:0.8627\n",
      "Epoch: 120. Train Loss: 0.4446. Test Loss: 0.4047. Train Acc: 0.8235. Test Acc:0.902\n",
      "Epoch: 130. Train Loss: 0.5033. Test Loss: 0.3792. Train Acc: 0.8235. Test Acc:0.9216\n",
      "Epoch: 140. Train Loss: 0.4284. Test Loss: 0.3551. Train Acc: 0.8627. Test Acc:0.9216\n",
      "Epoch: 150. Train Loss: 0.4781. Test Loss: 0.3359. Train Acc: 0.7843. Test Acc:0.9412\n",
      "Epoch: 160. Train Loss: 0.4393. Test Loss: 0.319. Train Acc: 0.8235. Test Acc:0.9412\n",
      "Epoch: 170. Train Loss: 0.4129. Test Loss: 0.3038. Train Acc: 0.8235. Test Acc:0.9608\n",
      "Epoch: 180. Train Loss: 0.3459. Test Loss: 0.2903. Train Acc: 0.8627. Test Acc:0.9608\n",
      "Epoch: 190. Train Loss: 0.3469. Test Loss: 0.2779. Train Acc: 0.8627. Test Acc:0.9608\n",
      "Epoch: 200. Train Loss: 0.486. Test Loss: 0.2707. Train Acc: 0.7451. Test Acc:0.9608\n",
      "Epoch: 210. Train Loss: 0.4224. Test Loss: 0.429. Train Acc: 0.8235. Test Acc:0.8627\n",
      "Epoch: 220. Train Loss: 0.3256. Test Loss: 0.2516. Train Acc: 0.8431. Test Acc:0.9608\n",
      "Epoch: 230. Train Loss: 0.3317. Test Loss: 0.2414. Train Acc: 0.7843. Test Acc:0.9608\n",
      "Epoch: 240. Train Loss: 0.2626. Test Loss: 0.2324. Train Acc: 0.8627. Test Acc:0.9608\n",
      "Epoch: 250. Train Loss: 0.356. Test Loss: 0.224. Train Acc: 0.8039. Test Acc:0.9608\n",
      "Epoch: 260. Train Loss: 0.3029. Test Loss: 0.2158. Train Acc: 0.8431. Test Acc:0.9608\n",
      "Epoch: 270. Train Loss: 0.3628. Test Loss: 0.2053. Train Acc: 0.7059. Test Acc:0.9608\n",
      "Epoch: 280. Train Loss: 0.3062. Test Loss: 0.1975. Train Acc: 0.8039. Test Acc:0.9608\n",
      "Epoch: 290. Train Loss: 0.2841. Test Loss: 0.1907. Train Acc: 0.8824. Test Acc:0.9608\n",
      "Epoch: 300. Train Loss: 0.3353. Test Loss: 0.1847. Train Acc: 0.8039. Test Acc:0.9804\n",
      "Epoch: 310. Train Loss: 0.2278. Test Loss: 0.1796. Train Acc: 0.7843. Test Acc:0.9804\n",
      "Epoch: 320. Train Loss: 0.2829. Test Loss: 0.1744. Train Acc: 0.8627. Test Acc:0.9804\n",
      "Epoch: 330. Train Loss: 0.2707. Test Loss: 0.1692. Train Acc: 0.902. Test Acc:0.9804\n",
      "Epoch: 340. Train Loss: 0.3137. Test Loss: 0.1644. Train Acc: 0.8039. Test Acc:0.9804\n",
      "Epoch: 350. Train Loss: 0.2923. Test Loss: 0.1602. Train Acc: 0.7647. Test Acc:0.9804\n",
      "Epoch: 360. Train Loss: 0.262. Test Loss: 0.1562. Train Acc: 0.8235. Test Acc:0.9804\n",
      "Epoch: 370. Train Loss: 0.5387. Test Loss: 0.4833. Train Acc: 0.7451. Test Acc:0.8431\n",
      "Epoch: 380. Train Loss: 0.449. Test Loss: 0.3624. Train Acc: 0.7647. Test Acc:0.8824\n",
      "Epoch: 390. Train Loss: 0.3666. Test Loss: 0.3137. Train Acc: 0.8235. Test Acc:0.9216\n",
      "Epoch: 400. Train Loss: 0.4049. Test Loss: 0.2972. Train Acc: 0.7843. Test Acc:0.902\n",
      "Epoch: 410. Train Loss: 0.374. Test Loss: 0.2756. Train Acc: 0.7647. Test Acc:0.902\n",
      "Epoch: 420. Train Loss: 0.2951. Test Loss: 0.2432. Train Acc: 0.7843. Test Acc:0.9216\n",
      "Epoch: 430. Train Loss: 0.3283. Test Loss: 0.2304. Train Acc: 0.8235. Test Acc:0.9216\n",
      "Epoch: 440. Train Loss: 0.2799. Test Loss: 0.2205. Train Acc: 0.8235. Test Acc:0.9216\n",
      "Epoch: 450. Train Loss: 0.295. Test Loss: 0.2121. Train Acc: 0.8431. Test Acc:0.9412\n",
      "Epoch: 460. Train Loss: 0.2816. Test Loss: 0.2045. Train Acc: 0.8627. Test Acc:0.9412\n",
      "Epoch: 470. Train Loss: 0.4185. Test Loss: 0.198. Train Acc: 0.7059. Test Acc:0.9412\n",
      "Epoch: 480. Train Loss: 0.3607. Test Loss: 0.1925. Train Acc: 0.7451. Test Acc:0.9412\n",
      "Epoch: 490. Train Loss: 0.2964. Test Loss: 0.1873. Train Acc: 0.8235. Test Acc:0.9412\n",
      "Epoch: 500. Train Loss: 0.2821. Test Loss: 0.182. Train Acc: 0.8824. Test Acc:0.9412\n",
      "---------------------------------------------------------------------------------------------\n",
      "      Layer (type)                              Output Shape         Param #     Tr. Param #\n",
      "=============================================================================================\n",
      "            LSTM-1     [10, 2998, 3], [1, 10, 3], [1, 10, 3]           6,204           6,204\n",
      "         Dropout-2                                   [10, 3]               0               0\n",
      "          Linear-3                                   [10, 3]              12              12\n",
      "=============================================================================================\n",
      "Total params: 6,216\n",
      "Trainable params: 6,216\n",
      "Non-trainable params: 0\n",
      "---------------------------------------------------------------------------------------------\n",
      "Epoch: 10. Train Loss: 1.14. Test Loss: 1.141. Train Acc: 0.3333. Test Acc:0.3333\n",
      "Epoch: 20. Train Loss: 1.114. Test Loss: 1.104. Train Acc: 0.3333. Test Acc:0.3333\n",
      "Epoch: 30. Train Loss: 1.065. Test Loss: 1.052. Train Acc: 0.3922. Test Acc:0.3529\n",
      "Epoch: 40. Train Loss: 1.021. Test Loss: 0.9911. Train Acc: 0.4314. Test Acc:0.4706\n",
      "Epoch: 50. Train Loss: 1.043. Test Loss: 0.9036. Train Acc: 0.3137. Test Acc:0.5294\n",
      "Epoch: 60. Train Loss: 0.8628. Test Loss: 0.84. Train Acc: 0.5686. Test Acc:0.5686\n",
      "Epoch: 70. Train Loss: 0.7364. Test Loss: 0.7729. Train Acc: 0.7059. Test Acc:0.6078\n",
      "Epoch: 80. Train Loss: 0.7179. Test Loss: 0.7258. Train Acc: 0.6863. Test Acc:0.6078\n",
      "Epoch: 90. Train Loss: 0.6706. Test Loss: 0.6631. Train Acc: 0.6667. Test Acc:0.6471\n"
     ]
    }
   ],
   "source": [
    "all_results = []\n",
    "\n",
    "for fold_index in cv_folds:\n",
    "    for feature_name in raw_features:\n",
    "        resutls = train_on_fold(fold_index, feature_name, batch_size=10, epochs=500)\n",
    "        all_results.append({\n",
    "            'fold_index': fold_index,\n",
    "            'feature_name': feature_name,\n",
    "            'epochs': resutls\n",
    "        })\n",
    "        save_results(all_results)"
   ]
  },
  {
   "cell_type": "code",
   "execution_count": null,
   "metadata": {},
   "outputs": [],
   "source": [
    "LangIdConvNet()"
   ]
  },
  {
   "cell_type": "code",
   "execution_count": null,
   "metadata": {},
   "outputs": [],
   "source": []
  }
 ],
 "metadata": {
  "kernelspec": {
   "display_name": "Python 3",
   "language": "python",
   "name": "python3"
  },
  "language_info": {
   "codemirror_mode": {
    "name": "ipython",
    "version": 3
   },
   "file_extension": ".py",
   "mimetype": "text/x-python",
   "name": "python",
   "nbconvert_exporter": "python",
   "pygments_lexer": "ipython3",
   "version": "3.6.8"
  }
 },
 "nbformat": 4,
 "nbformat_minor": 4
}
