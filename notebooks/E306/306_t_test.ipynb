{
 "cells": [
  {
   "cell_type": "code",
   "execution_count": 2,
   "metadata": {},
   "outputs": [],
   "source": [
    "import scipy\n",
    "import scipy.stats"
   ]
  },
  {
   "cell_type": "code",
   "execution_count": 3,
   "metadata": {},
   "outputs": [],
   "source": [
    "def compute_t_test(mean_ours, sem_ours, mean_bsln, sem_bsln, fold_count):\n",
    "    r = scipy.stats.ttest_ind_from_stats(\n",
    "        mean_ours, sem_ours, fold_count, \n",
    "        mean_bsln, sem_bsln, fold_count,\n",
    "        equal_var=True\n",
    "    )\n",
    "    print(r)"
   ]
  },
  {
   "cell_type": "markdown",
   "metadata": {},
   "source": [
    "# ASR"
   ]
  },
  {
   "cell_type": "code",
   "execution_count": 6,
   "metadata": {},
   "outputs": [
    {
     "name": "stdout",
     "output_type": "stream",
     "text": [
      "Ttest_indResult(statistic=-2.788288285864246, pvalue=0.02362059006760489)\n",
      "0.8882338837875969\n"
     ]
    }
   ],
   "source": [
    "mean_ours = 0.880061 # 0.880061 # 88.01\n",
    "sem_ours = 0.004260 # 0.004260 # 0.43\n",
    "mean_bsln = 0.887878 # 0.887878 # 88.79\n",
    "sem_bsln = 0.004599# 0.004599 # 0.46\n",
    "\n",
    "\n",
    "compute_t_test(mean_ours, sem_ours, mean_bsln, sem_bsln, fold_count=5)\n",
    "\n",
    "print(100* (mean_bsln - mean_ours)/mean_ours)"
   ]
  },
  {
   "cell_type": "markdown",
   "metadata": {},
   "source": [
    "# Language ID"
   ]
  },
  {
   "cell_type": "code",
   "execution_count": 45,
   "metadata": {},
   "outputs": [
    {
     "name": "stdout",
     "output_type": "stream",
     "text": [
      "Ttest_indResult(statistic=17.181878306773104, pvalue=1.302138689994956e-12)\n"
     ]
    }
   ],
   "source": [
    "mean_ours = 79.09\n",
    "sem_ours = 1.32\n",
    "\n",
    "mean_bsln = 65.15\n",
    "sem_bsln = 2.20\n",
    "compute_t_test(mean_ours, sem_ours, mean_bsln, sem_bsln, fold_count=10)"
   ]
  },
  {
   "cell_type": "code",
   "execution_count": null,
   "metadata": {},
   "outputs": [],
   "source": []
  },
  {
   "cell_type": "code",
   "execution_count": null,
   "metadata": {},
   "outputs": [],
   "source": [
    "ASR \n",
    "OUR: 88.01 pm 0.43\n",
    "BSLN 88.79 pm 0.46\n",
    "pvalue=0.024301890353575304\n",
    "\n",
    "\n",
    "Language ID\n",
    "OURS: 79.09 pm 1.32\n",
    "BSLN: 65.15 pm 2.20\n",
    "pvalue=1.302138689994956e-12"
   ]
  }
 ],
 "metadata": {
  "kernelspec": {
   "display_name": "Python 3",
   "language": "python",
   "name": "python3"
  },
  "language_info": {
   "codemirror_mode": {
    "name": "ipython",
    "version": 3
   },
   "file_extension": ".py",
   "mimetype": "text/x-python",
   "name": "python",
   "nbconvert_exporter": "python",
   "pygments_lexer": "ipython3",
   "version": "3.6.8"
  }
 },
 "nbformat": 4,
 "nbformat_minor": 4
}
