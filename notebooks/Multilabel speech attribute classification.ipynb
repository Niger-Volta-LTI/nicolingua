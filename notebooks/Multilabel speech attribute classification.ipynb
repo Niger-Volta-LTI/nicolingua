{
 "cells": [
  {
   "cell_type": "code",
   "execution_count": 2,
   "metadata": {},
   "outputs": [],
   "source": [
    "from pathlib import Path\n",
    "import csv\n",
    "from itertools import groupby\n",
    "import h5py\n",
    "import numpy as np\n",
    "import sklearn\n",
    "from sklearn.cluster import KMeans\n",
    "from sklearn.svm import SVC\n",
    "from sklearn.manifold import TSNE\n",
    "from sklearn.decomposition import PCA\n",
    "import random\n",
    "import matplotlib\n",
    "from matplotlib import pyplot as plt"
   ]
  },
  {
   "cell_type": "markdown",
   "metadata": {},
   "source": [
    "# Configuration & Utilities"
   ]
  },
  {
   "cell_type": "code",
   "execution_count": 3,
   "metadata": {},
   "outputs": [],
   "source": [
    "random.seed(42)\n",
    "COLORS = [\"#1f77b4\", \"#ff7f0e\", \"#2ca02c\", \"#d62728\", \"#9467bd\", \"#8c564b\", \"#e377c2\", \"#7f7f7f\", \"#bcbd22\", \"#17becf\"]\n",
    "ANNOTATIONS_PATH = \"/media/xtrem/data/experiments/nicolingua-0001-language-id/language-id-annotations/metadata.csv\"\n",
    "FEATURE_DIRS = [\n",
    "    '/media/xtrem/data/experiments/nicolingua-0001-language-id/wav2vec_features-c',\n",
    "    '/media/xtrem/data/experiments/nicolingua-0001-language-id/wav2vec_features-z',\n",
    "    '/media/xtrem/data/experiments/nicolingua-0001-language-id/retrained-wav2vec_features-c',\n",
    "    '/media/xtrem/data/experiments/nicolingua-0001-language-id/retrained-wav2vec_features-z'\n",
    "]"
   ]
  },
  {
   "cell_type": "code",
   "execution_count": 51,
   "metadata": {},
   "outputs": [],
   "source": [
    "classification_taxonomy = {\n",
    "    #('utt-verbal-nod', 100),\n",
    "    #('utt-multi-lingual-named-endity', 6),\n",
    "    #('utt-multi-lingual', 53),\n",
    "    0: {\n",
    "        \"group_name\": \"Utterance Characteristics\",\n",
    "        \"classes\": {\n",
    "            0: {\n",
    "                \"class_name\": \"utt-verbal-nod\",\n",
    "                \"tags\": {'utt-verbal-nod'}\n",
    "            },\n",
    "            1: {\n",
    "                \"class_name\": \"utt-multi-lingual\",\n",
    "                \"tags\": {'utt-multi-lingual-named-endity', 'utt-multi-lingual'}\n",
    "            }\n",
    "        }\n",
    "    },\n",
    "    \n",
    "    \n",
    "    #('spkr-single', 108),\n",
    "    #('spkr-multi', 159),\n",
    "    #('spkr-mult', 1),\n",
    "    1: {\n",
    "        \"group_name\": \"Speaker Count\",\n",
    "        \"classes\": {\n",
    "            0: {\n",
    "                \"class_name\": \"spkr-single\",\n",
    "                \"tags\": {'spkr-single'}\n",
    "            },\n",
    "            1: {\n",
    "                \"class_name\": \"spkr-multi\",\n",
    "                \"tags\": {'spkr-multi', 'spkr-mult'}\n",
    "            }\n",
    "        }\n",
    "    },\n",
    "    \n",
    "    \n",
    "    # ('spkr-male', 236),\n",
    "    # ('spkr-female', 80),\n",
    "    2: {\n",
    "        \"group_name\": \"Speakers Genders\",\n",
    "        \"classes\": {\n",
    "            0: {\n",
    "                \"class_name\": \"spkr-male\",\n",
    "                \"tags\": {'spkr-male'}\n",
    "            },\n",
    "            1: {\n",
    "                \"class_name\": \"spkr-female\",\n",
    "                \"tags\": {'spkr-female'}\n",
    "            }\n",
    "        }\n",
    "    },\n",
    "    \n",
    "    \n",
    "    \n",
    "    # ('lng-toma', 1),\n",
    "    # ('lng-spanish', 2),\n",
    "    # ('lng-kisi', 8),\n",
    "    # ('lng-english', 2),\n",
    "    \n",
    "    #  ('lng-arabic', 11),\n",
    "    #  ('lng-french', 73),\n",
    "    #  ('lng-guerze', 13),\n",
    "    #  ('lng-koniaka', 19),\n",
    "    #  ('lng-maninka', 123),\n",
    "    #  ('lng-pular', 34),\n",
    "    #  ('lng-susu', 41),\n",
    "    # ('lng-unknown', 54),\n",
    "    3: {\n",
    "        \"group_name\": \"Language\",\n",
    "        \"classes\": {\n",
    "            0: {\n",
    "                \"class_name\": \"lng-arabic\",\n",
    "                \"tags\": {'lng-arabic'}\n",
    "            },\n",
    "            1: {\n",
    "                \"class_name\": \"lng-french\",\n",
    "                \"tags\": {'lng-french'}\n",
    "            },\n",
    "            2: {\n",
    "                \"class_name\": \"lng-guerze\",\n",
    "                \"tags\": {'lng-guerze'}\n",
    "            },\n",
    "            3: {\n",
    "                \"class_name\": \"lng-koniaka\",\n",
    "                \"tags\": {'lng-koniaka'}\n",
    "            },\n",
    "            4: {\n",
    "                \"class_name\": \"lng-maninka\",\n",
    "                \"tags\": {'lng-maninka'}\n",
    "            },\n",
    "            5: {\n",
    "                \"class_name\": \"lng-pular\",\n",
    "                \"tags\": {'lng-pular'}\n",
    "            },\n",
    "            6: {\n",
    "                \"class_name\": \"lng-susu\",\n",
    "                \"tags\": {'lng-susu'}\n",
    "            },\n",
    "            7: {\n",
    "                \"class_name\": \"lng-unknown\",\n",
    "                \"tags\": {'lng-unknown'}\n",
    "            }\n",
    "        }\n",
    "    },\n",
    "    \n",
    "    \n",
    "    # ('ct-speech', 216),\n",
    "    # ('ct-song', 95),\n",
    "    # ('ct-laughter', 31),\n",
    "    4: {\n",
    "        \"group_name\": \"Vocalization Type\",\n",
    "        \"classes\": {\n",
    "            0: {\n",
    "                \"class_name\": \"ct-speech\",\n",
    "                \"tags\": {'ct-speech'}\n",
    "            },\n",
    "            1: {\n",
    "                \"class_name\": \"ct-song\",\n",
    "                \"tags\": {'ct-song'}\n",
    "            },\n",
    "            2: {\n",
    "                \"class_name\": \"ct-laughter\",\n",
    "                \"tags\": {'ct-laughter'}\n",
    "            }\n",
    "        }\n",
    "    },\n",
    "    \n",
    "    \n",
    "    # ('ct-telephone', 55),\n",
    "    # ('ct-noise', 57),\n",
    "    5: {\n",
    "        \"group_name\": \"Channel Characteristics\",\n",
    "        \"classes\": {\n",
    "            0: {\n",
    "                \"class_name\": \"ct-telephone\",\n",
    "                \"tags\": {'ct-telephone'}\n",
    "            },\n",
    "            1: {\n",
    "                \"class_name\": \"ct-noise\",\n",
    "                \"tags\": {'ct-noise'}\n",
    "            }\n",
    "        }\n",
    "    },\n",
    "    \n",
    "    \n",
    "    # ('ct-tr-music', 5),\n",
    "    # ('ct-fg-music', 100),\n",
    "    # ('ct-bg-music', 64)\n",
    "    6: {\n",
    "        \"group_name\": \"Music\",\n",
    "        \"classes\": {\n",
    "            0: {\n",
    "                \"class_name\": \"ct-fg-music\",\n",
    "                \"tags\": {'ct-fg-music', 'ct-tr-music'}\n",
    "            },\n",
    "            1: {\n",
    "                \"class_name\": \"ct-bg-music\",\n",
    "                \"tags\": {'ct-bg-music'}\n",
    "            }\n",
    "        }\n",
    "    },\n",
    "    \n",
    "    \n",
    "    # ('ct-edu-islam', 16),\n",
    "    # ('ct-edu-covid', 4),\n",
    "    7: {\n",
    "        \"group_name\": \"Topic\",\n",
    "        \"classes\": {\n",
    "            0: {\n",
    "                \"class_name\": \"ct-edu-islam\",\n",
    "                \"tags\": {'ct-edu-islam'}\n",
    "            }\n",
    "        }\n",
    "    }\n",
    "    \n",
    "}"
   ]
  },
  {
   "cell_type": "code",
   "execution_count": 52,
   "metadata": {},
   "outputs": [],
   "source": [
    "def to_user_friendly_feature_name(fv_name):\n",
    "    name = fv_name \\\n",
    "        .replace(\"features-\", \"\") \\\n",
    "        .replace(\"wav2vec_\", \"\") \\\n",
    "        .replace(\"average\", \"avg\") \\\n",
    "        .replace(\"timestep\", \"T\") \\\n",
    "        .replace(\"c.\", \"Context\") \\\n",
    "        .replace(\"z.\", \"Latent\")\n",
    "    return name"
   ]
  },
  {
   "cell_type": "markdown",
   "metadata": {},
   "source": [
    "# Load annotations"
   ]
  },
  {
   "cell_type": "code",
   "execution_count": 53,
   "metadata": {},
   "outputs": [],
   "source": [
    "def get_classification_labels(tag_set):\n",
    "    labels = []\n",
    "    for group_id in classification_taxonomy:\n",
    "        for class_id in classification_taxonomy[group_id]['classes']:\n",
    "            belongs = len(tag_set.intersection(\n",
    "                classification_taxonomy[group_id]['classes'][class_id]['tags']\n",
    "            )) > 0\n",
    "            if belongs:\n",
    "                labels.append((group_id, class_id))\n",
    "    return labels"
   ]
  },
  {
   "cell_type": "code",
   "execution_count": 54,
   "metadata": {},
   "outputs": [],
   "source": [
    "tags_by_file = {}\n",
    "def load_annotations(a_file_path, a_specification):\n",
    "    with open(ANNOTATIONS_PATH) as f:\n",
    "        reader = csv.DictReader(f)\n",
    "        for row in reader:\n",
    "            tag_set = set([t.strip() for t in row['tags'].split(\";\")])\n",
    "            tags_by_file[row['file']] = tag_set\n",
    "            \n",
    "            labels = get_classification_labels(tag_set)\n",
    "            yield row['file'], labels\n",
    "\n",
    "\n",
    "data = list(load_annotations(ANNOTATIONS_PATH, annotation_specification))\n",
    "random.shuffle(data)\n",
    "audio_files, audio_labels = zip(*data)"
   ]
  },
  {
   "cell_type": "code",
   "execution_count": 55,
   "metadata": {},
   "outputs": [
    {
     "data": {
      "text/plain": [
       "[]"
      ]
     },
     "execution_count": 55,
     "metadata": {},
     "output_type": "execute_result"
    }
   ],
   "source": [
    "[d for d in data if len(d[1]) == 0]"
   ]
  },
  {
   "cell_type": "code",
   "execution_count": 56,
   "metadata": {},
   "outputs": [
    {
     "data": {
      "text/plain": [
       "{'lng-unknown'}"
      ]
     },
     "execution_count": 56,
     "metadata": {},
     "output_type": "execute_result"
    }
   ],
   "source": [
    "tags_by_file['0cb889b0-1152-41bf-abf9-cf82841f9d42.wav']"
   ]
  },
  {
   "cell_type": "markdown",
   "metadata": {},
   "source": [
    "## Inspect label counts"
   ]
  },
  {
   "cell_type": "code",
   "execution_count": 7,
   "metadata": {},
   "outputs": [
    {
     "name": "stdout",
     "output_type": "stream",
     "text": [
      "maninka    (0): 114\n",
      "susu       (1): 32\n",
      "pular      (2): 28\n"
     ]
    }
   ],
   "source": [
    "def inspect_label_counts():\n",
    "    for label in annotation_specification:\n",
    "        count = len([l for l in audio_labels if l == label])\n",
    "        print(\"{:10} ({}): {}\".format(\n",
    "            annotation_specification[label]['label'],\n",
    "            label, \n",
    "            count\n",
    "        ))\n",
    "inspect_label_counts()"
   ]
  },
  {
   "cell_type": "markdown",
   "metadata": {},
   "source": [
    "## Inspect other tags"
   ]
  },
  {
   "cell_type": "code",
   "execution_count": 15,
   "metadata": {},
   "outputs": [
    {
     "data": {
      "text/plain": [
       "[('utt-verbal-nod', 100),\n",
       " ('utt-multi-lingual-named-endity', 6),\n",
       " ('utt-multi-lingual', 53),\n",
       " ('spkr-single', 108),\n",
       " ('spkr-multi', 159),\n",
       " ('spkr-mult', 1),\n",
       " ('spkr-male', 236),\n",
       " ('spkr-female', 80),\n",
       " ('lng-unknown', 54),\n",
       " ('lng-toma', 1),\n",
       " ('lng-susu', 41),\n",
       " ('lng-spanish', 2),\n",
       " ('lng-pular', 34),\n",
       " ('lng-maninka', 123),\n",
       " ('lng-koniaka', 19),\n",
       " ('lng-kisi', 8),\n",
       " ('lng-guerze', 13),\n",
       " ('lng-french', 73),\n",
       " ('lng-english', 2),\n",
       " ('lng-arabic', 11),\n",
       " ('ct-tr-music', 5),\n",
       " ('ct-telephone', 55),\n",
       " ('ct-speech', 216),\n",
       " ('ct-song', 95),\n",
       " ('ct-noise', 57),\n",
       " ('ct-laughter', 31),\n",
       " ('ct-fg-music', 100),\n",
       " ('ct-edu-islam', 16),\n",
       " ('ct-edu-covid', 4),\n",
       " ('ct-bg-music', 64)]"
      ]
     },
     "execution_count": 15,
     "metadata": {},
     "output_type": "execute_result"
    }
   ],
   "source": [
    "import random\n",
    "tags_by_file = {}\n",
    "tags_counts = {}\n",
    "\n",
    "with open(ANNOTATIONS_PATH) as f:\n",
    "    reader = csv.DictReader(f)\n",
    "    for row in reader:\n",
    "        tag_set = set([t.strip() for t in row['tags'].split(\";\")])\n",
    "        tags_by_file[row['file']] = tag_set\n",
    "        for tag in tag_set:\n",
    "            if tag not in tags_counts:\n",
    "                tags_counts[tag] = 0\n",
    "            tags_counts[tag] += 1\n",
    "\n",
    "sorted(tags_counts.items(), key=lambda i: i[0], reverse=True)\n"
   ]
  },
  {
   "cell_type": "code",
   "execution_count": 19,
   "metadata": {},
   "outputs": [],
   "source": [
    "\n",
    "\n"
   ]
  },
  {
   "cell_type": "code",
   "execution_count": null,
   "metadata": {},
   "outputs": [],
   "source": []
  }
 ],
 "metadata": {
  "kernelspec": {
   "display_name": "Python 3",
   "language": "python",
   "name": "python3"
  },
  "language_info": {
   "codemirror_mode": {
    "name": "ipython",
    "version": 3
   },
   "file_extension": ".py",
   "mimetype": "text/x-python",
   "name": "python",
   "nbconvert_exporter": "python",
   "pygments_lexer": "ipython3",
   "version": "3.6.8"
  }
 },
 "nbformat": 4,
 "nbformat_minor": 4
}
